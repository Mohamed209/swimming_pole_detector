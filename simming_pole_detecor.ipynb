{
 "cells": [
  {
   "cell_type": "markdown",
   "source": [
    "# 1- Data Preprocessing"
   ],
   "metadata": {}
  },
  {
   "cell_type": "markdown",
   "source": [
    "1-1 data is annotated using labelme tool\n",
    "\n",
    "1-2 use `python data_preprocessing/labelme_to_yolo.py --data_dir=JPEGImages/` to convert labelme boxes to yolo format (box center relative to images width and heights)\n",
    "\n",
    "1-3 script `data_preprocessing/train_test_split.py` used to split data with 0.25 test size\n",
    "\n",
    "1-4 final annotated splitted data found in `yolo_data` director and `yolo_data.tar.gz` in compressed format\n"
   ],
   "metadata": {}
  },
  {
   "cell_type": "markdown",
   "source": [
    "# 2- Model Training"
   ],
   "metadata": {}
  },
  {
   "cell_type": "markdown",
   "source": [],
   "metadata": {}
  }
 ],
 "metadata": {
  "orig_nbformat": 4,
  "language_info": {
   "name": "python"
  }
 },
 "nbformat": 4,
 "nbformat_minor": 2
}